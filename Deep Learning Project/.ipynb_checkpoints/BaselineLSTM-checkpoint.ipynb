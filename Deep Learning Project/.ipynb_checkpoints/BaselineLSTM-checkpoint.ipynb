{
 "cells": [
  {
   "cell_type": "code",
   "execution_count": null,
   "metadata": {
    "colab": {
     "base_uri": "https://localhost:8080/"
    },
    "executionInfo": {
     "elapsed": 3936,
     "status": "ok",
     "timestamp": 1606194185037,
     "user": {
      "displayName": "Naman Gour",
      "photoUrl": "https://lh3.googleusercontent.com/a-/AOh14GiUoIZmL-FkZAcxMPsRswq_S6k_0dnfOnbg5OAv=s64",
      "userId": "01821036939146288060"
     },
     "user_tz": 360
    },
    "id": "Ot-5d0qEVS6b",
    "outputId": "c349c708-0023-4512-f5e0-d4c498b2aa05"
   },
   "outputs": [
    {
     "name": "stdout",
     "output_type": "stream",
     "text": [
      "['test.ft.txt.bz2', 'train.ft.txt.bz2', 'idx2word.npy', 'word2idx.npy', 'train_data.npy', 'train_labels.npy', 'test_data.npy', 'test_labels.npy', 'val_data.npy', 'val_labels.npy', 'model_state_dict.pt', 'testerDRNN_model_state_dict.pt', 'cnn_test_state_dict.pt', 'lstm_state_dict.pt', 'test_model_state_dict.pt', 'cnn_state_dict.pt', 'cnn2_state_dict.pt']\n",
      "[nltk_data] Downloading package punkt to /root/nltk_data...\n",
      "[nltk_data]   Package punkt is already up-to-date!\n"
     ]
    }
   ],
   "source": [
    "import numpy as np\n",
    "import matplotlib.pyplot as plt\n",
    "from sklearn.model_selection import train_test_split\n",
    "import torch.nn as nn\n",
    "import torch.nn.functional as F\n",
    "import torch\n",
    "from torch.utils.data import TensorDataset, DataLoader\n",
    "import re\n",
    "import nltk\n",
    "import bz2\n",
    "import os\n",
    "data_dir = \"./data\"\n",
    "print(os.listdir(data_dir))\n",
    "nltk.download('punkt')\n",
    "\n",
    "from utils import pad_input, preprocessData, normalizeSentences\n",
    "from train_test import train_lstm, test_lstm"
   ]
  },
  {
   "cell_type": "code",
   "execution_count": null,
   "metadata": {
    "colab": {
     "base_uri": "https://localhost:8080/"
    },
    "executionInfo": {
     "elapsed": 11937,
     "status": "ok",
     "timestamp": 1606194193053,
     "user": {
      "displayName": "Naman Gour",
      "photoUrl": "https://lh3.googleusercontent.com/a-/AOh14GiUoIZmL-FkZAcxMPsRswq_S6k_0dnfOnbg5OAv=s64",
      "userId": "01821036939146288060"
     },
     "user_tz": 360
    },
    "id": "og0tfvngVndS",
    "outputId": "0a4efa44-e9d4-408e-a2e4-fc32feac4ac9"
   },
   "outputs": [
    {
     "name": "stdout",
     "output_type": "stream",
     "text": [
      "Loading files ...\n",
      "Files done loading\n"
     ]
    }
   ],
   "source": [
    "num_train = 800000 # Number of train samples to include\n",
    "num_test = 200000 # Number of test samples to include\n",
    "seq_len = 200 #The length that the sentences will be padded/shortened to\n",
    "batch_size = 400 # How many samples to process in one iteration\n",
    "test_val_split = 0.75 # Percentage of train data are split into validation\n",
    "load = all(npy_file in os.listdir(data_dir) for npy_file in [\"train_data.npy\", \"train_labels.npy\", \n",
    "                                                         \"test_data.npy\", \"test_labels.npy\", \n",
    "                                                         \"val_data.npy\", \"val_labels.npy\"])\n",
    "\n",
    "if load:\n",
    "    print(\"Loading files ...\")\n",
    "    train_sentences = np.load(data_dir + \"/train_data.npy\", allow_pickle=True)\n",
    "    train_labels = np.load(data_dir + \"/train_labels.npy\", allow_pickle=True)\n",
    "    test_sentences = np.load(data_dir + \"/test_data.npy\", allow_pickle=True)\n",
    "    test_labels = np.load(data_dir + \"/test_labels.npy\", allow_pickle=True)\n",
    "    val_sentences = np.load(data_dir + \"/val_data.npy\", allow_pickle=True)\n",
    "    val_labels = np.load(data_dir + \"/val_labels.npy\", allow_pickle=True)\n",
    "    print(\"Files done loading\")\n",
    "else:\n",
    "    train_file = bz2.BZ2File(data_dir +'/train.ft.txt.bz2', 'r')\n",
    "    test_file = bz2.BZ2File(data_dir + '/test.ft.txt.bz2', 'r')\n",
    "    train_file_lines = train_file.readlines()\n",
    "    test_file_lines = test_file.readlines()\n",
    "    train_sentences, test_sentences, train_labels, test_labels, word2idx, idx2word = preprocessData(train_file_lines, test_file_lines, num_train, num_test, seq_len)\n",
    "    train_sentences, test_sentences = normalizeSentences(train_sentences, test_sentences, word2idx, seq_len)\n",
    "    val_sentences, train_sentences, val_labels, train_labels = train_test_split(train_sentences, train_labels, test_size=test_val_split, shuffle=True)\n",
    "\n",
    "    print(\"Saving files ...\")\n",
    "    np.save(data_dir + \"/train_data.npy\", train_sentences)\n",
    "    np.save(data_dir + \"/train_labels.npy\", train_labels)\n",
    "    np.save(data_dir + \"/test_data.npy\", test_sentences)\n",
    "    np.save(data_dir + \"/test_labels.npy\", test_labels)\n",
    "    np.save(data_dir + \"/val_data.npy\", val_sentences)\n",
    "    np.save(data_dir + \"/val_labels.npy\", val_labels)\n",
    "    print(\"Files done saving\")"
   ]
  },
  {
   "cell_type": "code",
   "execution_count": null,
   "metadata": {
    "id": "0SIikl3hZH5T"
   },
   "outputs": [],
   "source": [
    "train_data = TensorDataset(torch.from_numpy(train_sentences), torch.from_numpy(train_labels).float())\n",
    "test_data = TensorDataset(torch.from_numpy(test_sentences), torch.from_numpy(test_labels).float())\n",
    "val_data = TensorDataset(torch.from_numpy(val_sentences), torch.from_numpy(val_labels).float())\n",
    "\n",
    "train_loader = DataLoader(train_data, shuffle=True, batch_size=batch_size)\n",
    "test_loader = DataLoader(test_data, shuffle=True, batch_size=batch_size)\n",
    "val_loader = DataLoader(val_data, shuffle=True, batch_size=batch_size)"
   ]
  },
  {
   "cell_type": "code",
   "execution_count": null,
   "metadata": {
    "id": "5Tto6rmhZOmk"
   },
   "outputs": [],
   "source": [
    "class LSTMNet(nn.Module):\n",
    "    def __init__(self, vocab_size, output_size, embedding_dim, hidden_dim, n_layers, drop_prob=0.5, bidirectional=False):\n",
    "        super(LSTMNet, self).__init__()\n",
    "        self.output_size = output_size\n",
    "        self.n_layers = n_layers\n",
    "        self.hidden_dim = hidden_dim\n",
    "        directions = 2 if bidirectional else 1\n",
    "        self.embedding = nn.Embedding(vocab_size, embedding_dim)\n",
    "        self.lstm = nn.LSTM(embedding_dim, hidden_dim, n_layers, dropout=drop_prob, batch_first=True, bidirectional=bidirectional)\n",
    "        self.dropout = nn.Dropout(0.2)\n",
    "        self.fc = nn.Linear(hidden_dim, output_size)\n",
    "        self.sigmoid = nn.Sigmoid()\n",
    "        \n",
    "    def forward(self, x, hidden):\n",
    "        batch_size = x.size(0)\n",
    "        x = x.long()\n",
    "        embeds = self.embedding(x)\n",
    "        lstm_out, hidden = self.lstm(embeds, hidden)\n",
    "        lstm_out = lstm_out.contiguous().view(-1, self.hidden_dim)\n",
    "        \n",
    "        out = self.dropout(lstm_out)\n",
    "        out = self.fc(out)\n",
    "        out = self.sigmoid(out)\n",
    "        \n",
    "        out = out.view(batch_size, -1)\n",
    "        out = out[:,-1]\n",
    "        return out, hidden\n",
    "    \n",
    "    def init_hidden(self, batch_size):\n",
    "        weight = next(self.parameters()).data\n",
    "        hidden = (weight.new(self.n_layers, batch_size, self.hidden_dim).zero_().to(device),\n",
    "                      weight.new(self.n_layers, batch_size, self.hidden_dim).zero_().to(device))\n",
    "        return hidden"
   ]
  },
  {
   "cell_type": "code",
   "execution_count": null,
   "metadata": {
    "colab": {
     "base_uri": "https://localhost:8080/"
    },
    "executionInfo": {
     "elapsed": 1438,
     "status": "ok",
     "timestamp": 1606195785020,
     "user": {
      "displayName": "Naman Gour",
      "photoUrl": "https://lh3.googleusercontent.com/a-/AOh14GiUoIZmL-FkZAcxMPsRswq_S6k_0dnfOnbg5OAv=s64",
      "userId": "01821036939146288060"
     },
     "user_tz": 360
    },
    "id": "DZIG1258Zcku",
    "outputId": "1ab3dc89-f5f7-4643-e2de-b674cdeda43b"
   },
   "outputs": [
    {
     "name": "stdout",
     "output_type": "stream",
     "text": [
      "GPU\n",
      "LSTMNet(\n",
      "  (embedding): Embedding(225965, 128)\n",
      "  (lstm): LSTM(128, 32, num_layers=2, batch_first=True, dropout=0.2)\n",
      "  (dropout): Dropout(p=0.2, inplace=False)\n",
      "  (fc): Linear(in_features=32, out_features=1, bias=True)\n",
      "  (sigmoid): Sigmoid()\n",
      ")\n"
     ]
    }
   ],
   "source": [
    "vocab_size = 225965\n",
    "output_size = 1\n",
    "embedding_dim = 128\n",
    "hidden_dim = 32\n",
    "n_layers = 2\n",
    "lr=0.005\n",
    "epochs = 2\n",
    "\n",
    "# If we have a GPU available, we'll set our device to GPU. We'll use this device variable later in our code.\n",
    "if torch.cuda.is_available():\n",
    "    device = torch.device(\"cuda\")\n",
    "    print(\"GPU\")\n",
    "else:\n",
    "    device = torch.device(\"cpu\")\n",
    "    print(\"CPU\")\n",
    "\n",
    "model_state = data_dir + \"/lstm_state_dict.pt\"\n",
    "model = LSTMNet(vocab_size, output_size, embedding_dim, hidden_dim, n_layers, drop_prob=0.2)\n",
    "model.to(device)\n",
    "print(model)\n",
    "criterion = nn.BCELoss()\n",
    "optimizer = torch.optim.Adam(model.parameters(), lr=lr)"
   ]
  },
  {
   "cell_type": "code",
   "execution_count": null,
   "metadata": {
    "colab": {
     "base_uri": "https://localhost:8080/"
    },
    "executionInfo": {
     "elapsed": 112189,
     "status": "ok",
     "timestamp": 1606195895988,
     "user": {
      "displayName": "Naman Gour",
      "photoUrl": "https://lh3.googleusercontent.com/a-/AOh14GiUoIZmL-FkZAcxMPsRswq_S6k_0dnfOnbg5OAv=s64",
      "userId": "01821036939146288060"
     },
     "user_tz": 360
    },
    "id": "GbdF7MSbZtGb",
    "outputId": "47cb24c1-b0dd-4d7e-97a5-6e0195025dc5"
   },
   "outputs": [
    {
     "name": "stdout",
     "output_type": "stream",
     "text": [
      "Epoch: 1/2... Step: 500... Loss: 0.211760... Val Loss: 0.213473\n",
      "Validation loss decreased (inf --> 0.213473).  Saving model ...\n",
      "Epoch: 1/2... Step: 1000... Loss: 0.189358... Val Loss: 0.199611\n",
      "Validation loss decreased (0.213473 --> 0.185750).  Saving model ...\n",
      "Epoch: 1/2... Step: 1500... Loss: 0.243433... Val Loss: 0.190540\n",
      "Validation loss decreased (0.185750 --> 0.172399).  Saving model ...\n",
      "Epoch: 2/2... Step: 2000... Loss: 0.107311... Val Loss: 0.186970\n",
      "Epoch: 2/2... Step: 2500... Loss: 0.150813... Val Loss: 0.184445\n",
      "Epoch: 2/2... Step: 3000... Loss: 0.141571... Val Loss: 0.181861\n",
      "Validation loss decreased (0.172399 --> 0.168940).  Saving model ...\n"
     ]
    },
    {
     "data": {
      "image/png": "[encoded data removed]",
      "text/plain": [
       "<Figure size 432x288 with 1 Axes>"
      ]
     },
     "metadata": {
      "needs_background": "light",
      "tags": []
     },
     "output_type": "display_data"
    }
   ],
   "source": [
    "train_lstm(model, criterion, optimizer, epochs, device, train_loader, val_loader, model_state)"
   ]
  },
  {
   "cell_type": "code",
   "execution_count": null,
   "metadata": {
    "colab": {
     "base_uri": "https://localhost:8080/"
    },
    "executionInfo": {
     "elapsed": 117008,
     "status": "ok",
     "timestamp": 1606195901175,
     "user": {
      "displayName": "Naman Gour",
      "photoUrl": "https://lh3.googleusercontent.com/a-/AOh14GiUoIZmL-FkZAcxMPsRswq_S6k_0dnfOnbg5OAv=s64",
      "userId": "01821036939146288060"
     },
     "user_tz": 360
    },
    "id": "le43Jl1NZ1QC",
    "outputId": "902c96e3-dd88-4818-de2c-cfe24adcf643"
   },
   "outputs": [
    {
     "name": "stdout",
     "output_type": "stream",
     "text": [
      "Test loss: 0.170\n",
      "Test accuracy: 93.762%\n"
     ]
    }
   ],
   "source": [
    "test_lstm(model, criterion, device, test_loader, model_state)"
   ]
  }
 ],
 "metadata": {
  "accelerator": "GPU",
  "colab": {
   "collapsed_sections": [],
   "name": "BaselineLSTM.ipynb",
   "provenance": []
  },
  "kernelspec": {
   "display_name": "Python 3",
   "language": "python",
   "name": "python3"
  },
  "language_info": {
   "codemirror_mode": {
    "name": "ipython",
    "version": 3
   },
   "file_extension": ".py",
   "mimetype": "text/x-python",
   "name": "python",
   "nbconvert_exporter": "python",
   "pygments_lexer": "ipython3",
   "version": "3.7.1"
  }
 },
 "nbformat": 4,
 "nbformat_minor": 1
}
