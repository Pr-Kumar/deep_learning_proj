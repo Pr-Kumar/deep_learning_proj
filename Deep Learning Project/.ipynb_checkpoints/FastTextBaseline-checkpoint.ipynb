{
 "cells": [
  {
   "cell_type": "code",
   "execution_count": 1,
   "metadata": {
    "colab": {
     "base_uri": "https://localhost:8080/"
    },
    "executionInfo": {
     "elapsed": 5168,
     "status": "ok",
     "timestamp": 1606012941612,
     "user": {
      "displayName": "Naman Gour",
      "photoUrl": "https://lh3.googleusercontent.com/a-/AOh14GiUoIZmL-FkZAcxMPsRswq_S6k_0dnfOnbg5OAv=s64",
      "userId": "01821036939146288060"
     },
     "user_tz": 360
    },
    "id": "fgfO2-0-pjnI",
    "outputId": "e40e6833-f310-433e-cff9-98f79f3c5763"
   },
   "outputs": [
    {
     "name": "stdout",
     "output_type": "stream",
     "text": [
      "['cnn2_state_dict.pt', 'cnn_state_dict.pt', 'idx2word.npy', 'lstm_state_dict.pt', 'model_state_dict.pt', 'test.ft.txt.bz2', 'testerDRNN_model_state_dict.pt', 'test_data.npy', 'test_labels.npy', 'test_model_state_dict.pt', 'train.ft.txt.bz2', 'train_data.npy', 'train_labels.npy', 'val_data.npy', 'val_labels.npy', 'word2idx.npy']\n"
     ]
    }
   ],
   "source": [
    "import numpy as np\n",
    "import pandas as pd\n",
    "import fasttext\n",
    "import bz2\n",
    "import csv\n",
    "from sklearn.metrics import accuracy_score\n",
    "import os\n",
    "data_dir = \"./data\"\n",
    "print(os.listdir(data_dir))"
   ]
  },
  {
   "cell_type": "code",
   "execution_count": null,
   "metadata": {
    "colab": {
     "base_uri": "https://localhost:8080/"
    },
    "executionInfo": {
     "elapsed": 113069,
     "status": "ok",
     "timestamp": 1606013049542,
     "user": {
      "displayName": "Naman Gour",
      "photoUrl": "https://lh3.googleusercontent.com/a-/AOh14GiUoIZmL-FkZAcxMPsRswq_S6k_0dnfOnbg5OAv=s64",
      "userId": "01821036939146288060"
     },
     "user_tz": 360
    },
    "id": "TOk8S2ifqXMu",
    "outputId": "4390d3c8-4401-4f66-d8fa-d3db84a8ed8a"
   },
   "outputs": [
    {
     "name": "stdout",
     "output_type": "stream",
     "text": [
      "3600000\n"
     ]
    }
   ],
   "source": [
    "data = bz2.BZ2File(data_dir + \"/train.ft.txt.bz2\")\n",
    "data = data.readlines()\n",
    "data = [x.decode('utf-8') for x in data]\n",
    "print(len(data)) "
   ]
  },
  {
   "cell_type": "code",
   "execution_count": null,
   "metadata": {
    "id": "PlETXK_grMwK"
   },
   "outputs": [],
   "source": [
    "data = pd.DataFrame(data)\n",
    "data.to_csv(\"train.txt\", index=False, sep=' ', header=False, quoting=csv.QUOTE_NONE, quotechar=\"\", escapechar=\" \")\n",
    "model = fasttext.train_supervised('train.txt',label_prefix='__label__', thread=4, epoch = 10)"
   ]
  },
  {
   "cell_type": "code",
   "execution_count": null,
   "metadata": {
    "colab": {
     "base_uri": "https://localhost:8080/"
    },
    "executionInfo": {
     "elapsed": 947590,
     "status": "ok",
     "timestamp": 1606013884096,
     "user": {
      "displayName": "Naman Gour",
      "photoUrl": "https://lh3.googleusercontent.com/a-/AOh14GiUoIZmL-FkZAcxMPsRswq_S6k_0dnfOnbg5OAv=s64",
      "userId": "01821036939146288060"
     },
     "user_tz": 360
    },
    "id": "NGWVkCPpsuGV",
    "outputId": "a3772b3b-2a8b-4178-f30b-c2e10ff5a737"
   },
   "outputs": [
    {
     "name": "stdout",
     "output_type": "stream",
     "text": [
      "400000 number of records in the test set\n"
     ]
    }
   ],
   "source": [
    "test = bz2.BZ2File(data_dir + \"/test.ft.txt.bz2\")\n",
    "test = test.readlines()\n",
    "test = [x.decode('utf-8') for x in test]\n",
    "print(len(test), 'number of records in the test set') \n",
    "\n",
    "# To run the predict function, we need to remove the __label__1 and __label__2 from the testset.  \n",
    "new = [w.replace('__label__2 ', '') for w in test]\n",
    "new = [w.replace('__label__1 ', '') for w in new]\n",
    "new = [w.replace('\\n', '') for w in new]\n",
    "\n",
    "# Use the predict function \n",
    "pred = model.predict(new)"
   ]
  },
  {
   "cell_type": "code",
   "execution_count": null,
   "metadata": {
    "colab": {
     "base_uri": "https://localhost:8080/"
    },
    "executionInfo": {
     "elapsed": 949464,
     "status": "ok",
     "timestamp": 1606013885985,
     "user": {
      "displayName": "Naman Gour",
      "photoUrl": "https://lh3.googleusercontent.com/a-/AOh14GiUoIZmL-FkZAcxMPsRswq_S6k_0dnfOnbg5OAv=s64",
      "userId": "01821036939146288060"
     },
     "user_tz": 360
    },
    "id": "0ICqe39XtA_F",
    "outputId": "15ca17bd-93ac-466a-d504-dfce8df326a6"
   },
   "outputs": [
    {
     "name": "stdout",
     "output_type": "stream",
     "text": [
      "0.917265\n"
     ]
    }
   ],
   "source": [
    "labels = [0 if x.split(' ')[0] == '__label__1' else 1 for x in test]\n",
    "pred_labels = [0 if x == ['__label__1'] else 1 for x in pred[0]]\n",
    "\n",
    "# run the accuracy measure. \n",
    "print(accuracy_score(labels, pred_labels))"
   ]
  }
 ],
 "metadata": {
  "colab": {
   "name": "FastTextBaseline.ipynb",
   "provenance": []
  },
  "kernelspec": {
   "display_name": "Python 3",
   "language": "python",
   "name": "python3"
  },
  "language_info": {
   "codemirror_mode": {
    "name": "ipython",
    "version": 3
   },
   "file_extension": ".py",
   "mimetype": "text/x-python",
   "name": "python",
   "nbconvert_exporter": "python",
   "pygments_lexer": "ipython3",
   "version": "3.7.1"
  }
 },
 "nbformat": 4,
 "nbformat_minor": 1
}
