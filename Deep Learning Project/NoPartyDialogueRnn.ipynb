{
 "cells": [
  {
   "cell_type": "code",
   "execution_count": 1,
   "metadata": {
    "colab": {
     "base_uri": "https://localhost:8080/"
    },
    "executionInfo": {
     "elapsed": 10585,
     "status": "ok",
     "timestamp": 1606249471434,
     "user": {
      "displayName": "Prajwal Kumar",
      "photoUrl": "https://lh3.googleusercontent.com/a-/AOh14GgeepszZadoIihEbTpp0Svjxpm_j1-my7cs-9d6DA=s64",
      "userId": "09369290142074057324"
     },
     "user_tz": 300
    },
    "id": "0gmXBLf_0WUx",
    "outputId": "69b22e9d-00a6-413e-936a-ddb92bb9a592"
   },
   "outputs": [
    {
     "name": "stdout",
     "output_type": "stream",
     "text": [
      "['cnn2_state_dict.pt', 'cnn_state_dict.pt', 'idx2word.npy', 'lstm_state_dict.pt', 'model_state_dict.pt', 'test.ft.txt.bz2', 'testerDRNN_model_state_dict.pt', 'test_data.npy', 'test_labels.npy', 'test_model_state_dict.pt', 'train.ft.txt.bz2', 'train_data.npy', 'train_labels.npy', 'val_data.npy', 'val_labels.npy', 'word2idx.npy']\n"
     ]
    },
    {
     "name": "stderr",
     "output_type": "stream",
     "text": [
      "[nltk_data] Downloading package punkt to\n",
      "[nltk_data]     C:\\Users\\prajw\\AppData\\Roaming\\nltk_data...\n",
      "[nltk_data]   Package punkt is already up-to-date!\n"
     ]
    }
   ],
   "source": [
    "import numpy as np\n",
    "import matplotlib.pyplot as plt\n",
    "from sklearn.model_selection import train_test_split\n",
    "import torch\n",
    "import torch.nn as nn\n",
    "from torch.utils.data import TensorDataset, DataLoader\n",
    "import torch.optim as optim\n",
    "import re\n",
    "import bz2\n",
    "import os\n",
    "import nltk\n",
    "nltk.download('punkt')\n",
    "data_dir = \"./data\"\n",
    "print(os.listdir(data_dir))\n",
    "\n",
    "from model import DialogueRNNCell\n",
    "from utils import pad_input, preprocessData, normalizeSentences\n",
    "from train_test import train_model, test_model"
   ]
  },
  {
   "cell_type": "code",
   "execution_count": 3,
   "metadata": {
    "colab": {
     "base_uri": "https://localhost:8080/"
    },
    "executionInfo": {
     "elapsed": 25877,
     "status": "ok",
     "timestamp": 1606249487090,
     "user": {
      "displayName": "Prajwal Kumar",
      "photoUrl": "https://lh3.googleusercontent.com/a-/AOh14GgeepszZadoIihEbTpp0Svjxpm_j1-my7cs-9d6DA=s64",
      "userId": "09369290142074057324"
     },
     "user_tz": 300
    },
    "id": "oaGIYHP0ETck",
    "outputId": "d4a0f637-4ba1-4c16-83ed-8719065c00e9"
   },
   "outputs": [
    {
     "name": "stdout",
     "output_type": "stream",
     "text": [
      "Loading files ...\n",
      "Files done loading\n"
     ]
    }
   ],
   "source": [
    "num_train = 80000 # Number of train samples to include\n",
    "num_test = 20000 # Number of test samples to include\n",
    "seq_len = 200 #The length that the sentences will be padded/shortened to\n",
    "batch_size = 400 # How many samples to process in one iteration\n",
    "test_val_split = 0.75 # Percentage of train data are split into validation\n",
    "      \n",
    "load = all(npy_file in os.listdir(data_dir) for npy_file in [\"train_data.npy\", \"train_labels.npy\", \n",
    "                                                         \"test_data.npy\", \"test_labels.npy\", \n",
    "                                                         \"val_data.npy\", \"val_labels.npy\"])\n",
    "\n",
    "if load:\n",
    "    print(\"Loading files ...\")\n",
    "    train_sentences = np.load(data_dir + \"/train_data.npy\", allow_pickle=True)\n",
    "    train_labels = np.load(data_dir + \"/train_labels.npy\", allow_pickle=True)\n",
    "    test_sentences = np.load(data_dir + \"/test_data.npy\", allow_pickle=True)\n",
    "    test_labels = np.load(data_dir + \"/test_labels.npy\", allow_pickle=True)\n",
    "    val_sentences = np.load(data_dir + \"/val_data.npy\", allow_pickle=True)\n",
    "    val_labels = np.load(data_dir + \"/val_labels.npy\", allow_pickle=True)\n",
    "    print(\"Files done loading\")\n",
    "else:\n",
    "    train_file = bz2.BZ2File(data_dir +'/train.ft.txt.bz2', 'r')\n",
    "    test_file = bz2.BZ2File(data_dir + '/test.ft.txt.bz2', 'r')\n",
    "    train_file_lines = train_file.readlines()\n",
    "    test_file_lines = test_file.readlines()\n",
    "    train_sentences, test_sentences, train_labels, test_labels, word2idx, idx2word = preprocessData(train_file_lines, test_file_lines, num_train, num_test, seq_len)\n",
    "    train_sentences, test_sentences = normalizeSentences(train_sentences, test_sentences, word2idx, seq_len)\n",
    "    val_sentences, train_sentences, val_labels, train_labels = train_test_split(train_sentences, train_labels, test_size=test_val_split, shuffle=True)\n",
    "\n",
    "    print(\"Saving files ...\")\n",
    "    np.save(data_dir + \"/train_data.npy\", train_sentences)\n",
    "    np.save(data_dir + \"/train_labels.npy\", train_labels)\n",
    "    np.save(data_dir + \"/test_data.npy\", test_sentences)\n",
    "    np.save(data_dir + \"/test_labels.npy\", test_labels)\n",
    "    np.save(data_dir + \"/val_data.npy\", val_sentences)\n",
    "    np.save(data_dir + \"/val_labels.npy\", val_labels)\n",
    "    print(\"Files done saving\")"
   ]
  },
  {
   "cell_type": "code",
   "execution_count": 4,
   "metadata": {
    "executionInfo": {
     "elapsed": 24877,
     "status": "ok",
     "timestamp": 1606249487093,
     "user": {
      "displayName": "Prajwal Kumar",
      "photoUrl": "https://lh3.googleusercontent.com/a-/AOh14GgeepszZadoIihEbTpp0Svjxpm_j1-my7cs-9d6DA=s64",
      "userId": "09369290142074057324"
     },
     "user_tz": 300
    },
    "id": "UV8cYkgLmHDL"
   },
   "outputs": [],
   "source": [
    "train_data = TensorDataset(torch.from_numpy(train_sentences), torch.from_numpy(train_labels).float())\n",
    "test_data = TensorDataset(torch.from_numpy(test_sentences), torch.from_numpy(test_labels).float())\n",
    "val_data = TensorDataset(torch.from_numpy(val_sentences), torch.from_numpy(val_labels).float())\n",
    "\n",
    "train_subset = torch.utils.data.Subset(train_data, range(num_train))\n",
    "test_subset = torch.utils.data.Subset(test_data, range(num_test))\n",
    "val_subset = torch.utils.data.Subset(val_data, range(int(num_train * (1-test_val_split))))\n",
    "train_loader = DataLoader(train_subset, shuffle=True, batch_size=batch_size)\n",
    "test_loader = DataLoader(test_subset, shuffle=True, batch_size=batch_size)\n",
    "val_loader = DataLoader(val_subset, shuffle=True, batch_size=batch_size)"
   ]
  },
  {
   "cell_type": "code",
   "execution_count": 5,
   "metadata": {
    "executionInfo": {
     "elapsed": 23618,
     "status": "ok",
     "timestamp": 1606249487095,
     "user": {
      "displayName": "Prajwal Kumar",
      "photoUrl": "https://lh3.googleusercontent.com/a-/AOh14GgeepszZadoIihEbTpp0Svjxpm_j1-my7cs-9d6DA=s64",
      "userId": "09369290142074057324"
     },
     "user_tz": 300
    },
    "id": "fjYwd3LTPlV4"
   },
   "outputs": [],
   "source": [
    "# framework for this model is very similar to the DialogueRNN model in the model.py class\n",
    "class NoPartyDialogueRNN(nn.Module):\n",
    "\n",
    "    def __init__(self, D_m, D_g, D_p, D_e, hidden_layer, output_size, vocab_size, sequence_length, dropout, device):\n",
    "        super(NoPartyDialogueRNN, self).__init__()\n",
    "\n",
    "        self.D_m = D_m\n",
    "        self.D_g = D_g\n",
    "        self.D_p = D_p\n",
    "        self.D_e = D_e\n",
    "        self.sequence_length = sequence_length\n",
    "\n",
    "        self.embedding = nn.Embedding(vocab_size, D_m)\n",
    "        self.dialogue_cell = DialogueRNNCell(D_m, D_g, D_p, D_e, dropout)\n",
    "        self.dropout = nn.Dropout(dropout+0.15)\n",
    "        self.classify = nn.Sequential(\n",
    "            nn.Linear(D_e*sequence_length, hidden_layer),\n",
    "            nn.ReLU(),\n",
    "            nn.Dropout(dropout),\n",
    "            nn.Linear(hidden_layer, output_size)\n",
    "        )\n",
    "        self.sigmoid = nn.Sigmoid()\n",
    "        self.device = device\n",
    "\n",
    "    def forward(self, sentences):\n",
    "        \"\"\"\n",
    "        sentences -> batch, seq_len\n",
    "        \"\"\"\n",
    "\n",
    "        embeds = self.embedding(torch.transpose(sentences, 0, 1)) # seq_len, batch, D_m\n",
    "        \n",
    "        qmask = torch.ones((sentences.size()[0], 1)).to(self.device) # batch, party -> there is only 1 party for these sentences\n",
    "        g_hist = torch.zeros((1, sentences.size()[0], self.D_g)).type(torch.FloatTensor).to(self.device) # s-1, batch, D_g, starts with s=1 where s represents the number of splits \n",
    "        q_ = torch.zeros(sentences.size()[0], 1, self.D_p).type(torch.FloatTensor).to(self.device) # batch, party, D_p\n",
    "        e_ = torch.zeros((sentences.size()[0], self.D_e)).type(torch.FloatTensor).to(self.device) # batch, D_e\n",
    "        emotions = []\n",
    "\n",
    "        # run rnn cell for each segment of size D_m\n",
    "        for i in range(embeds.size()[0]):\n",
    "            utterance = embeds[i, :, :] # utterance is batch, D_m\n",
    "            g_, q_, e_, attention_ = self.dialogue_cell(utterance, qmask, g_hist, q_, e_)\n",
    "            if i == 0:\n",
    "              emotions = e_\n",
    "            else:\n",
    "              emotions = torch.cat([emotions, e_],1)\n",
    "            g_hist = torch.cat([g_hist, g_.unsqueeze(0)],0)\n",
    "\n",
    "        emotions = self.dropout(emotions) # emotions -> batch, D_e*seq_len\n",
    "        final_emotion = self.classify(emotions) # final_emotion -> batch, output_size\n",
    "        final_emotion = self.sigmoid(final_emotion)\n",
    "        return final_emotion"
   ]
  },
  {
   "cell_type": "code",
   "execution_count": 6,
   "metadata": {
    "executionInfo": {
     "elapsed": 32988,
     "status": "ok",
     "timestamp": 1606249498161,
     "user": {
      "displayName": "Prajwal Kumar",
      "photoUrl": "https://lh3.googleusercontent.com/a-/AOh14GgeepszZadoIihEbTpp0Svjxpm_j1-my7cs-9d6DA=s64",
      "userId": "09369290142074057324"
     },
     "user_tz": 300
    },
    "id": "GAN9SZMrKqiC"
   },
   "outputs": [],
   "source": [
    "#################### Model Parameters #################################\n",
    "D_m = 50 # Size of text embedding \n",
    "D_g = 120 # Size of global state\n",
    "D_p = 100 # size of party state vector (simulating only 1 party fills vector with 1s)\n",
    "D_e = 75 # Size of emotion vector and output from DialogueRNNCell\n",
    "hidden_layer = 128 # Size of hidden layer after first dropout\n",
    "output_size = 1 # Final output size\n",
    "dropout = 0.3\n",
    "vocab_size = 225965\n",
    "full_review_len = seq_len # Full length of padded review string\n",
    "#######################################################################\n",
    "\n",
    "#################### Optimizer Parameters #################################\n",
    "learning_rate = 0.005\n",
    "epochs = 1\n",
    "#######################################################################\n",
    "\n",
    "# If we have a GPU available, we'll set our device to GPU. We'll use this device variable later in our code.\n",
    "if torch.cuda.is_available():\n",
    "    device = torch.device(\"cuda\")\n",
    "    print(\"GPU\")\n",
    "else:\n",
    "    device = torch.device(\"cpu\")\n",
    "    print(\"CPU\")\n",
    "\n",
    "model_state = data_dir + \"/model_state_dict.pt\"\n",
    "loss_function = nn.BCELoss()\n",
    "NPDN = NoPartyDialogueRNN(D_m, D_g, D_p, D_e, hidden_layer, output_size, vocab_size, full_review_len, dropout, device).to(device)\n",
    "print(NPDN)\n",
    "optimizer = optim.Adam(NPDN.parameters(), lr=learning_rate)"
   ]
  },
  {
   "cell_type": "code",
   "execution_count": null,
   "metadata": {
    "colab": {
     "base_uri": "https://localhost:8080/",
     "height": 401
    },
    "executionInfo": {
     "elapsed": 3521660,
     "status": "ok",
     "timestamp": 1606114193397,
     "user": {
      "displayName": "Naman Gour",
      "photoUrl": "https://lh3.googleusercontent.com/a-/AOh14GiUoIZmL-FkZAcxMPsRswq_S6k_0dnfOnbg5OAv=s64",
      "userId": "01821036939146288060"
     },
     "user_tz": 360
    },
    "id": "tJuYMc1MrrMc",
    "outputId": "582e72ea-d594-4e23-d833-98b6bf2f910a"
   },
   "outputs": [
    {
     "name": "stdout",
     "output_type": "stream",
     "text": [
      "Epoch: 1/1... Step: 50... Loss: 1.219624... Val Loss: 0.693335\n",
      "Validation loss decreased (inf --> 0.693335).  Saving model ...\n",
      "Epoch: 1/1... Step: 100... Loss: 0.693161... Val Loss: 0.693263\n",
      "Validation loss decreased (0.693335 --> 0.693191).  Saving model ...\n",
      "Epoch: 1/1... Step: 150... Loss: 1.215099... Val Loss: 0.693222\n",
      "Validation loss decreased (0.693191 --> 0.693140).  Saving model ...\n",
      "Epoch: 1/1... Step: 200... Loss: 0.694161... Val Loss: 0.693160\n",
      "Validation loss decreased (0.693140 --> 0.692975).  Saving model ...\n"
     ]
    },
    {
     "data": {
      "image/png": "[encoded data removed]",
      "text/plain": [
       "<Figure size 432x288 with 1 Axes>"
      ]
     },
     "metadata": {
      "needs_background": "light",
      "tags": []
     },
     "output_type": "display_data"
    }
   ],
   "source": [
    "train_model(NPDN, loss_function, optimizer, epochs, device, train_loader, val_loader, model_state)"
   ]
  },
  {
   "cell_type": "code",
   "execution_count": 7,
   "metadata": {
    "colab": {
     "base_uri": "https://localhost:8080/"
    },
    "executionInfo": {
     "elapsed": 233591,
     "status": "ok",
     "timestamp": 1606249731769,
     "user": {
      "displayName": "Prajwal Kumar",
      "photoUrl": "https://lh3.googleusercontent.com/a-/AOh14GgeepszZadoIihEbTpp0Svjxpm_j1-my7cs-9d6DA=s64",
      "userId": "09369290142074057324"
     },
     "user_tz": 300
    },
    "id": "1YgYPUkvLJZN",
    "outputId": "768ece83-7d60-4a1c-ded6-9a9edc7d4826"
   },
   "outputs": [
    {
     "name": "stdout",
     "output_type": "stream",
     "text": [
      "Test loss: 0.693\n",
      "Test accuracy: 50.193%\n"
     ]
    }
   ],
   "source": [
    "test_model(NPDN, loss_function, device, test_loader, model_state)"
   ]
  }
 ],
 "metadata": {
  "accelerator": "GPU",
  "colab": {
   "collapsed_sections": [],
   "name": "NoPartyDialogueRnn.ipynb",
   "provenance": []
  },
  "kernelspec": {
   "display_name": "Python 3",
   "language": "python",
   "name": "python3"
  },
  "language_info": {
   "codemirror_mode": {
    "name": "ipython",
    "version": 3
   },
   "file_extension": ".py",
   "mimetype": "text/x-python",
   "name": "python",
   "nbconvert_exporter": "python",
   "pygments_lexer": "ipython3",
   "version": "3.7.1"
  }
 },
 "nbformat": 4,
 "nbformat_minor": 1
}
