{
 "cells": [
  {
   "cell_type": "code",
   "execution_count": null,
   "metadata": {
    "colab": {
     "base_uri": "https://localhost:8080/"
    },
    "executionInfo": {
     "elapsed": 2933,
     "status": "ok",
     "timestamp": 1606190070689,
     "user": {
      "displayName": "Naman Gour",
      "photoUrl": "https://lh3.googleusercontent.com/a-/AOh14GiUoIZmL-FkZAcxMPsRswq_S6k_0dnfOnbg5OAv=s64",
      "userId": "01821036939146288060"
     },
     "user_tz": 360
    },
    "id": "L3Pw6AR7lGVb",
    "outputId": "20c62ec8-a0d1-4282-ed54-b23e3c26c938"
   },
   "outputs": [
    {
     "name": "stdout",
     "output_type": "stream",
     "text": [
      "['test.ft.txt.bz2', 'train.ft.txt.bz2', 'idx2word.npy', 'word2idx.npy', 'train_data.npy', 'train_labels.npy', 'test_data.npy', 'test_labels.npy', 'val_data.npy', 'val_labels.npy', 'model_state_dict.pt', 'testerDRNN_model_state_dict.pt', 'cnn_test_state_dict.pt', 'lstm_state_dict.pt', 'test_model_state_dict.pt', 'cnn_state_dict.pt', 'cnn2_state_dict.pt']\n",
      "[nltk_data] Downloading package punkt to /root/nltk_data...\n",
      "[nltk_data]   Package punkt is already up-to-date!\n"
     ]
    }
   ],
   "source": [
    "import numpy as np\n",
    "import pandas as pd\n",
    "import matplotlib.pyplot as plt\n",
    "from sklearn.model_selection import train_test_split\n",
    "import torch.nn as nn\n",
    "import torch.nn.functional as F\n",
    "import torch\n",
    "from torch.utils.data import TensorDataset, DataLoader\n",
    "import re\n",
    "import nltk\n",
    "import bz2\n",
    "import os\n",
    "data_dir = \"./data\"\n",
    "print(os.listdir(data_dir))\n",
    "nltk.download('punkt')\n",
    "\n",
    "from utils import pad_input, preprocessData, normalizeSentences\n",
    "from train_test import train_cnn, test_cnn"
   ]
  },
  {
   "cell_type": "code",
   "execution_count": null,
   "metadata": {
    "colab": {
     "base_uri": "https://localhost:8080/"
    },
    "executionInfo": {
     "elapsed": 9795,
     "status": "ok",
     "timestamp": 1606190077567,
     "user": {
      "displayName": "Naman Gour",
      "photoUrl": "https://lh3.googleusercontent.com/a-/AOh14GiUoIZmL-FkZAcxMPsRswq_S6k_0dnfOnbg5OAv=s64",
      "userId": "01821036939146288060"
     },
     "user_tz": 360
    },
    "id": "PzEYa8R1lHwo",
    "outputId": "578d1cbf-e25b-4cc3-b673-a7d571f6e0c6"
   },
   "outputs": [
    {
     "name": "stdout",
     "output_type": "stream",
     "text": [
      "Loading files ...\n",
      "Files done loading\n"
     ]
    }
   ],
   "source": [
    "num_train = 800000 # Number of train samples to include\n",
    "num_test = 200000 # Number of test samples to include\n",
    "seq_len = 200 #The length that the sentences will be padded/shortened to\n",
    "batch_size = 400 # How many samples to process in one iteration\n",
    "test_val_split = 0.75 # Percentage of test data are split into validation\n",
    "load = all(npy_file in os.listdir(data_dir) for npy_file in [\"train_data.npy\", \"train_labels.npy\", \n",
    "                                                         \"test_data.npy\", \"test_labels.npy\", \n",
    "                                                         \"val_data.npy\", \"val_labels.npy\"])\n",
    "\n",
    "if load:\n",
    "    print(\"Loading files ...\")\n",
    "    train_sentences = np.load(data_dir + \"/train_data.npy\", allow_pickle=True)\n",
    "    train_labels = np.load(data_dir + \"/train_labels.npy\", allow_pickle=True)\n",
    "    test_sentences = np.load(data_dir + \"/test_data.npy\", allow_pickle=True)\n",
    "    test_labels = np.load(data_dir + \"/test_labels.npy\", allow_pickle=True)\n",
    "    val_sentences = np.load(data_dir + \"/val_data.npy\", allow_pickle=True)\n",
    "    val_labels = np.load(data_dir + \"/val_labels.npy\", allow_pickle=True)\n",
    "    print(\"Files done loading\")\n",
    "else:\n",
    "    train_file = bz2.BZ2File(data_dir +'/train.ft.txt.bz2', 'r')\n",
    "    test_file = bz2.BZ2File(data_dir + '/test.ft.txt.bz2', 'r')\n",
    "    train_file_lines = train_file.readlines()\n",
    "    test_file_lines = test_file.readlines()\n",
    "    train_sentences, test_sentences, train_labels, test_labels, word2idx, idx2word = preprocessData(train_file_lines, test_file_lines, num_train, num_test, seq_len)\n",
    "    train_sentences, test_sentences = normalizeSentences(train_sentences, test_sentences, word2idx, seq_len)\n",
    "    val_sentences, train_sentences, val_labels, train_labels = train_test_split(train_sentences, train_labels, test_size=test_val_split, shuffle=True)\n",
    "\n",
    "    print(\"Saving files ...\")\n",
    "    np.save(data_dir + \"/train_data.npy\", train_sentences)\n",
    "    np.save(data_dir + \"/train_labels.npy\", train_labels)\n",
    "    np.save(data_dir + \"/test_data.npy\", test_sentences)\n",
    "    np.save(data_dir + \"/test_labels.npy\", test_labels)\n",
    "    np.save(data_dir + \"/val_data.npy\", val_sentences)\n",
    "    np.save(data_dir + \"/val_labels.npy\", val_labels)\n",
    "    print(\"Files done saving\")"
   ]
  },
  {
   "cell_type": "code",
   "execution_count": null,
   "metadata": {
    "id": "mHCwnFzIleJN"
   },
   "outputs": [],
   "source": [
    "train_data = TensorDataset(torch.from_numpy(train_sentences), torch.from_numpy(train_labels).float())\n",
    "val_data = TensorDataset(torch.from_numpy(val_sentences), torch.from_numpy(val_labels).float())\n",
    "test_data = TensorDataset(torch.from_numpy(test_sentences), torch.from_numpy(test_labels).float())\n",
    "\n",
    "train_loader = DataLoader(train_data, shuffle=True, batch_size=batch_size)\n",
    "val_loader = DataLoader(val_data, shuffle=True, batch_size=batch_size)\n",
    "test_loader = DataLoader(test_data, shuffle=True, batch_size=batch_size)"
   ]
  },
  {
   "cell_type": "markdown",
   "metadata": {
    "id": "L4BtnFdSwcYP"
   },
   "source": [
    "We run 2 separate CNNs, the first is based on the following model https://arxiv.org/abs/1408.5882"
   ]
  },
  {
   "cell_type": "code",
   "execution_count": null,
   "metadata": {
    "id": "APsGo8W4lm7F"
   },
   "outputs": [],
   "source": [
    "# model similar to https://github.com/bentrevett/pytorch-sentiment-analysis/blob/master/4%20-%20Convolutional%20Sentiment%20Analysis.ipynb\n",
    "class ConvNet(nn.Module):\n",
    "    def __init__(self, vocab_size, output_size, embedding_dim, drop_prob=0.2):\n",
    "        super(ConvNet, self).__init__()\n",
    "        self.output_size = output_size\n",
    "        self.hidden_dim = hidden_dim\n",
    "        filter_sizes = [7, 5, 3]\n",
    "        \n",
    "        self.embedding = nn.Embedding(vocab_size, embedding_dim)\n",
    "        self.convs = nn.ModuleList([nn.Conv1d(in_channels=embedding_dim, out_channels=128, kernel_size=fs) for fs in filter_sizes])       \n",
    "        self.dropout = nn.Dropout(drop_prob)\n",
    "        self.fc = nn.Linear(len(filter_sizes) * 128, output_size)\n",
    "        self.sigmoid = nn.Sigmoid()\n",
    "\n",
    "    def forward(self, x):\n",
    "        batch_size = x.size(0)\n",
    "        x = x.long()\n",
    "        embeds = self.embedding(x)\n",
    "        embeds = embeds.permute(0, 2, 1)\n",
    "        conved = [F.relu(conv(embeds)) for conv in self.convs]\n",
    "        pooled = [F.max_pool1d(conv, conv.shape[2]).squeeze(2) for conv in conved]\n",
    "        out = self.dropout(torch.cat(pooled, dim = 1))\n",
    "        return self.sigmoid(self.fc(out))"
   ]
  },
  {
   "cell_type": "code",
   "execution_count": null,
   "metadata": {
    "colab": {
     "base_uri": "https://localhost:8080/"
    },
    "executionInfo": {
     "elapsed": 887,
     "status": "ok",
     "timestamp": 1606191016071,
     "user": {
      "displayName": "Naman Gour",
      "photoUrl": "https://lh3.googleusercontent.com/a-/AOh14GiUoIZmL-FkZAcxMPsRswq_S6k_0dnfOnbg5OAv=s64",
      "userId": "01821036939146288060"
     },
     "user_tz": 360
    },
    "id": "lDT72vtJljpX",
    "outputId": "3a15c289-d569-4e4e-863a-9b7011d34b16"
   },
   "outputs": [
    {
     "name": "stdout",
     "output_type": "stream",
     "text": [
      "Running on GPU\n",
      "ConvNet(\n",
      "  (embedding): Embedding(225965, 128)\n",
      "  (convs): ModuleList(\n",
      "    (0): Conv1d(128, 128, kernel_size=(7,), stride=(1,))\n",
      "    (1): Conv1d(128, 128, kernel_size=(5,), stride=(1,))\n",
      "    (2): Conv1d(128, 128, kernel_size=(3,), stride=(1,))\n",
      "  )\n",
      "  (dropout): Dropout(p=0.2, inplace=False)\n",
      "  (fc): Linear(in_features=384, out_features=1, bias=True)\n",
      "  (sigmoid): Sigmoid()\n",
      ")\n"
     ]
    }
   ],
   "source": [
    "vocab_size = 225965\n",
    "output_size = 1\n",
    "embedding_dim = 128\n",
    "hidden_dim = 32\n",
    "n_layers = 2\n",
    "epochs = 2\n",
    "lr=0.005\n",
    "\n",
    "# If we have a GPU available, we'll set our device to GPU. We'll use this device variable later in our code.\n",
    "if torch.cuda.is_available():\n",
    "    device = torch.device(\"cuda\")\n",
    "    print(\"GPU\")\n",
    "else:\n",
    "    device = torch.device(\"cpu\")\n",
    "    print(\"CPU\")\n",
    "\n",
    "model_state = data_dir + \"/cnn_state_dict.pt\"\n",
    "model = ConvNet(vocab_size, output_size, embedding_dim)\n",
    "model.to(device)\n",
    "print(model)\n",
    "criterion = nn.BCELoss()\n",
    "optimizer = torch.optim.Adam(model.parameters(), lr=lr)"
   ]
  },
  {
   "cell_type": "code",
   "execution_count": null,
   "metadata": {
    "colab": {
     "base_uri": "https://localhost:8080/",
     "height": 435
    },
    "executionInfo": {
     "elapsed": 81092,
     "status": "ok",
     "timestamp": 1606191096298,
     "user": {
      "displayName": "Naman Gour",
      "photoUrl": "https://lh3.googleusercontent.com/a-/AOh14GiUoIZmL-FkZAcxMPsRswq_S6k_0dnfOnbg5OAv=s64",
      "userId": "01821036939146288060"
     },
     "user_tz": 360
    },
    "id": "mwMZ_Rm7lrUS",
    "outputId": "97562a15-5f7a-4866-e564-eb2fa1e98904"
   },
   "outputs": [
    {
     "name": "stdout",
     "output_type": "stream",
     "text": [
      "Epoch: 1/2... Step: 500... Loss: 0.170115... Val Loss: 0.189963\n",
      "Validation loss decreased (inf --> 0.189963).  Saving model ...\n",
      "Epoch: 1/2... Step: 1000... Loss: 0.150702... Val Loss: 0.182279\n",
      "Validation loss decreased (0.189963 --> 0.174595).  Saving model ...\n",
      "Epoch: 1/2... Step: 1500... Loss: 0.185666... Val Loss: 0.178882\n",
      "Validation loss decreased (0.174595 --> 0.172089).  Saving model ...\n",
      "Epoch: 2/2... Step: 2000... Loss: 0.122428... Val Loss: 0.178360\n",
      "Epoch: 2/2... Step: 2500... Loss: 0.121845... Val Loss: 0.177629\n",
      "Epoch: 2/2... Step: 3000... Loss: 0.174240... Val Loss: 0.176577\n",
      "Validation loss decreased (0.172089 --> 0.171318).  Saving model ...\n"
     ]
    },
    {
     "data": {
      "image/png": "[encoded data removed]",
      "text/plain": [
       "<Figure size 432x288 with 1 Axes>"
      ]
     },
     "metadata": {
      "needs_background": "light",
      "tags": []
     },
     "output_type": "display_data"
    }
   ],
   "source": [
    "train_cnn(model, criterion, optimizer, epochs, device, train_loader, val_loader, model_state)"
   ]
  },
  {
   "cell_type": "code",
   "execution_count": null,
   "metadata": {
    "colab": {
     "base_uri": "https://localhost:8080/"
    },
    "executionInfo": {
     "elapsed": 85223,
     "status": "ok",
     "timestamp": 1606191100447,
     "user": {
      "displayName": "Naman Gour",
      "photoUrl": "https://lh3.googleusercontent.com/a-/AOh14GiUoIZmL-FkZAcxMPsRswq_S6k_0dnfOnbg5OAv=s64",
      "userId": "01821036939146288060"
     },
     "user_tz": 360
    },
    "id": "q8dnz5DpcCo-",
    "outputId": "183b68ec-3991-4381-9c54-8c32f7e42d22"
   },
   "outputs": [
    {
     "name": "stdout",
     "output_type": "stream",
     "text": [
      "Test loss: 0.173\n",
      "Test accuracy: 93.572%\n"
     ]
    }
   ],
   "source": [
    "test_cnn(model, criterion, device, test_loader, model_state)"
   ]
  },
  {
   "cell_type": "markdown",
   "metadata": {
    "id": "1s7vki5Lwmmo"
   },
   "source": [
    "The second model utilizes BatchNormalization along with Global Average Pooling:"
   ]
  },
  {
   "cell_type": "code",
   "execution_count": null,
   "metadata": {
    "id": "gJPVlpetNb26"
   },
   "outputs": [],
   "source": [
    "class ConvNet2(nn.Module):\n",
    "    def __init__(self, vocab_size, output_size, embedding_dim, hidden_dim, seq_len, drop_prob=0.2):\n",
    "        super(ConvNet2, self).__init__()\n",
    "        self.output_size = output_size\n",
    "        self.hidden_dim = hidden_dim\n",
    "\n",
    "        self.embedding = nn.Embedding(vocab_size, embedding_dim)\n",
    "        self.dropout = nn.Dropout(drop_prob)\n",
    "        self.bn = nn.BatchNorm1d(embedding_dim)\n",
    "        self.conv0 = nn.Conv1d(in_channels=embedding_dim, out_channels=hidden_dim, kernel_size=7, padding=3)\n",
    "        self.bn0 = nn.BatchNorm1d(hidden_dim)\n",
    "        self.conv1 = nn.Conv1d(in_channels=hidden_dim, out_channels=hidden_dim, kernel_size=3, padding=1)\n",
    "        self.bn1 = nn.BatchNorm1d(hidden_dim) \n",
    "        self.conv2 = nn.Conv1d(in_channels=hidden_dim, out_channels=hidden_dim, kernel_size=3, padding=1)\n",
    "        self.bn2 = nn.BatchNorm1d(hidden_dim) \n",
    "        self.conv3 = nn.Conv1d(in_channels=hidden_dim, out_channels=hidden_dim, kernel_size=3, padding=1)\n",
    "        self.bn3 = nn.BatchNorm1d(hidden_dim) \n",
    "        self.conv4 = nn.Conv1d(in_channels=hidden_dim, out_channels=output_size, kernel_size=1)\n",
    "        self.pool = nn.AvgPool1d(seq_len)\n",
    "        self.sigmoid = nn.Sigmoid()\n",
    "\n",
    "    def forward(self, x):\n",
    "        embeds = self.embedding(x)\n",
    "        embeds = embeds.permute(0, 2, 1)\n",
    "        embeds = self.bn(self.dropout(embeds))\n",
    "        conved_0 = self.bn0(F.relu(self.conv0(embeds)))\n",
    "        conved_1 = self.bn1(F.relu(self.conv1(conved_0)))\n",
    "        conved_2 = self.bn2(F.relu(self.conv2(conved_1)))\n",
    "        conved_3 = self.bn3(F.relu(self.conv3(conved_2)))\n",
    "        out = self.pool(self.conv4(conved_3)).squeeze(-1)\n",
    "        return self.sigmoid(out)"
   ]
  },
  {
   "cell_type": "code",
   "execution_count": null,
   "metadata": {
    "colab": {
     "base_uri": "https://localhost:8080/"
    },
    "executionInfo": {
     "elapsed": 935,
     "status": "ok",
     "timestamp": 1606190914029,
     "user": {
      "displayName": "Naman Gour",
      "photoUrl": "https://lh3.googleusercontent.com/a-/AOh14GiUoIZmL-FkZAcxMPsRswq_S6k_0dnfOnbg5OAv=s64",
      "userId": "01821036939146288060"
     },
     "user_tz": 360
    },
    "id": "Xd4i0OhawvhG",
    "outputId": "04b2a479-b166-4646-de8d-2da23ac225d5"
   },
   "outputs": [
    {
     "name": "stdout",
     "output_type": "stream",
     "text": [
      "GPU\n",
      "ConvNet2(\n",
      "  (embedding): Embedding(225965, 128)\n",
      "  (dropout): Dropout(p=0.2, inplace=False)\n",
      "  (bn): BatchNorm1d(128, eps=1e-05, momentum=0.1, affine=True, track_running_stats=True)\n",
      "  (conv0): Conv1d(128, 32, kernel_size=(7,), stride=(1,), padding=(3,))\n",
      "  (bn0): BatchNorm1d(32, eps=1e-05, momentum=0.1, affine=True, track_running_stats=True)\n",
      "  (conv1): Conv1d(32, 32, kernel_size=(3,), stride=(1,), padding=(1,))\n",
      "  (bn1): BatchNorm1d(32, eps=1e-05, momentum=0.1, affine=True, track_running_stats=True)\n",
      "  (conv2): Conv1d(32, 32, kernel_size=(3,), stride=(1,), padding=(1,))\n",
      "  (bn2): BatchNorm1d(32, eps=1e-05, momentum=0.1, affine=True, track_running_stats=True)\n",
      "  (conv3): Conv1d(32, 32, kernel_size=(3,), stride=(1,), padding=(1,))\n",
      "  (bn3): BatchNorm1d(32, eps=1e-05, momentum=0.1, affine=True, track_running_stats=True)\n",
      "  (conv4): Conv1d(32, 1, kernel_size=(1,), stride=(1,))\n",
      "  (pool): AvgPool1d(kernel_size=(200,), stride=(200,), padding=(0,))\n",
      "  (sigmoid): Sigmoid()\n",
      ")\n"
     ]
    }
   ],
   "source": [
    "vocab_size = 225965\n",
    "output_size = 1\n",
    "embedding_dim = 128\n",
    "hidden_dim = 32\n",
    "lr=0.005\n",
    "epochs = 2\n",
    "\n",
    "# If we have a GPU available, we'll set our device to GPU. We'll use this device variable later in our code.\n",
    "if torch.cuda.is_available():\n",
    "    device = torch.device(\"cuda\")\n",
    "    print(\"GPU\")\n",
    "else:\n",
    "    device = torch.device(\"cpu\")\n",
    "    print(\"CPU\")\n",
    "\n",
    "model_state = data_dir + \"/cnn2_state_dict.pt\"\n",
    "model = ConvNet2(vocab_size, output_size, embedding_dim, hidden_dim, seq_len)\n",
    "model.to(device)\n",
    "print(model)\n",
    "criterion = nn.BCELoss()\n",
    "optimizer = torch.optim.Adam(model.parameters(), lr=lr)"
   ]
  },
  {
   "cell_type": "code",
   "execution_count": null,
   "metadata": {
    "colab": {
     "base_uri": "https://localhost:8080/",
     "height": 435
    },
    "executionInfo": {
     "elapsed": 99128,
     "status": "ok",
     "timestamp": 1606191012689,
     "user": {
      "displayName": "Naman Gour",
      "photoUrl": "https://lh3.googleusercontent.com/a-/AOh14GiUoIZmL-FkZAcxMPsRswq_S6k_0dnfOnbg5OAv=s64",
      "userId": "01821036939146288060"
     },
     "user_tz": 360
    },
    "id": "Zj0fvHxNzEJD",
    "outputId": "c5b0acd5-91d4-470c-a281-4c6196db87b1"
   },
   "outputs": [
    {
     "name": "stdout",
     "output_type": "stream",
     "text": [
      "Epoch: 1/2... Step: 500... Loss: 0.238624... Val Loss: 0.195324\n",
      "Validation loss decreased (inf --> 0.195324).  Saving model ...\n",
      "Epoch: 1/2... Step: 1000... Loss: 0.190916... Val Loss: 0.186732\n",
      "Validation loss decreased (0.195324 --> 0.178139).  Saving model ...\n",
      "Epoch: 1/2... Step: 1500... Loss: 0.154599... Val Loss: 0.181154\n",
      "Validation loss decreased (0.178139 --> 0.169999).  Saving model ...\n",
      "Epoch: 2/2... Step: 2000... Loss: 0.214177... Val Loss: 0.181948\n",
      "Epoch: 2/2... Step: 2500... Loss: 0.130404... Val Loss: 0.178057\n",
      "Validation loss decreased (0.169999 --> 0.162497).  Saving model ...\n",
      "Epoch: 2/2... Step: 3000... Loss: 0.153315... Val Loss: 0.183967\n"
     ]
    },
    {
     "data": {
      "image/png": "[encoded data removed]",
      "text/plain": [
       "<Figure size 432x288 with 1 Axes>"
      ]
     },
     "metadata": {
      "needs_background": "light",
      "tags": []
     },
     "output_type": "display_data"
    }
   ],
   "source": [
    "train_cnn(model, criterion, optimizer, epochs, device, train_loader, val_loader, model_state)"
   ]
  },
  {
   "cell_type": "code",
   "execution_count": null,
   "metadata": {
    "colab": {
     "base_uri": "https://localhost:8080/"
    },
    "executionInfo": {
     "elapsed": 101158,
     "status": "ok",
     "timestamp": 1606191015147,
     "user": {
      "displayName": "Naman Gour",
      "photoUrl": "https://lh3.googleusercontent.com/a-/AOh14GiUoIZmL-FkZAcxMPsRswq_S6k_0dnfOnbg5OAv=s64",
      "userId": "01821036939146288060"
     },
     "user_tz": 360
    },
    "id": "icOGfCLhzEV6",
    "outputId": "d41716c8-d75b-4e79-ef3c-f828d0820173"
   },
   "outputs": [
    {
     "name": "stdout",
     "output_type": "stream",
     "text": [
      "Test loss: 0.163\n",
      "Test accuracy: 94.004%\n"
     ]
    }
   ],
   "source": [
    "test_cnn(model, criterion, device, test_loader, model_state)"
   ]
  }
 ],
 "metadata": {
  "accelerator": "GPU",
  "colab": {
   "collapsed_sections": [],
   "name": "BaselineCNN and BatchNormCNN.ipynb",
   "provenance": []
  },
  "kernelspec": {
   "display_name": "Python 3",
   "language": "python",
   "name": "python3"
  },
  "language_info": {
   "codemirror_mode": {
    "name": "ipython",
    "version": 3
   },
   "file_extension": ".py",
   "mimetype": "text/x-python",
   "name": "python",
   "nbconvert_exporter": "python",
   "pygments_lexer": "ipython3",
   "version": "3.7.1"
  }
 },
 "nbformat": 4,
 "nbformat_minor": 1
}
